{
 "cells": [
  {
   "cell_type": "code",
   "execution_count": 1,
   "id": "27076e30-02c0-43de-ade9-7026cd1c59b0",
   "metadata": {},
   "outputs": [],
   "source": [
    "import sys\n",
    "#############################################\n",
    "import warnings\n",
    "warnings.filterwarnings(\"ignore\")\n",
    "#############################################\n",
    "sys.path.insert(1, '/media/BINGODATA1/ComponentSeparation//beam_analyzes/scripts')\n",
    "import handling_data          as hdata"
   ]
  },
  {
   "cell_type": "code",
   "execution_count": 7,
   "id": "0ed25a77-513d-4d71-8eeb-f74d16e8b5a4",
   "metadata": {},
   "outputs": [],
   "source": [
    "output_info = {'field':'FG', \n",
    "               \"psm_models\": [\"s1\",\"f1\"],\n",
    "               \"frequency\":{\"min\":1050,\"max\":1420,'nbands':37},\n",
    "               \"coverage\":'full',\n",
    "               'beam': {'model':None, 'fwhm':0}, \n",
    "               'stokes':\"I\",\n",
    "               \"freq_unit\":\"MHz\", \"stokes_unit\":\"mk\", \"fwhm_unit\":\"arcmin\",\n",
    "               'NSIDE':256,\n",
    "               \"realization\":0,\n",
    "               \"output_dir\":'/media/BINGODATA1/ComponentSeparation/building_dataset/dataset/FG256',\n",
    "               \"clear_output_dir\":False,\n",
    "               \"include_rps\": False,\n",
    "               \"pathrps\": \"/media/BINGODATA1/ComponentSeparation/Foregrounds_Lucas/output/\",\n",
    "               \"filename_rps\":\"point_sources_cube_FG256.fits\",\n",
    "               \"add_info\":\"nonfrps\"}"
   ]
  },
  {
   "cell_type": "code",
   "execution_count": 5,
   "id": "331e7539-c18a-4013-9992-5aec3295bb2b",
   "metadata": {},
   "outputs": [
    {
     "name": "stdout",
     "output_type": "stream",
     "text": [
      "Checking output directory...\n",
      "Output directory ready.\n",
      "Building HDU data and headers...\n",
      "Starting to build FG dataset...\n",
      "FG dataset ready.\n",
      "HDUs ready.\n",
      "Saving FITS file...\n",
      "FITS file saved.\n",
      "Completed.\n"
     ]
    }
   ],
   "source": [
    "hdata.save_FITS_newformat(pathdir_=None, output_info=output_info)"
   ]
  },
  {
   "cell_type": "code",
   "execution_count": 9,
   "id": "f9c933d5-968d-4ae3-8d42-f570132aec0a",
   "metadata": {},
   "outputs": [
    {
     "data": {
      "text/plain": [
       "10.0"
      ]
     },
     "execution_count": 9,
     "metadata": {},
     "output_type": "execute_result"
    }
   ],
   "source": [
    "(1420 - 1050)/37"
   ]
  },
  {
   "cell_type": "code",
   "execution_count": null,
   "id": "ccd812c6-68a2-454f-90ea-14ffb1a5fe01",
   "metadata": {},
   "outputs": [],
   "source": []
  }
 ],
 "metadata": {
  "kernelspec": {
   "display_name": "Python 3 (ipykernel)",
   "language": "python",
   "name": "python3"
  },
  "language_info": {
   "codemirror_mode": {
    "name": "ipython",
    "version": 3
   },
   "file_extension": ".py",
   "mimetype": "text/x-python",
   "name": "python",
   "nbconvert_exporter": "python",
   "pygments_lexer": "ipython3",
   "version": "3.8.16"
  }
 },
 "nbformat": 4,
 "nbformat_minor": 5
}
