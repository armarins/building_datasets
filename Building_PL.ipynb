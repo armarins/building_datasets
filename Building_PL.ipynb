{
 "cells": [
  {
   "cell_type": "code",
   "execution_count": 1,
   "id": "610bea49-839c-4f34-a7c1-eb8efd45a137",
   "metadata": {},
   "outputs": [],
   "source": [
    "import sys\n",
    "#############################################\n",
    "import warnings\n",
    "warnings.filterwarnings(\"ignore\")\n",
    "#############################################\n",
    "sys.path.insert(1, '/media/BINGODATA1/ComponentSeparation//beam_analyzes/scripts')\n",
    "import handling_data          as hdata"
   ]
  },
  {
   "cell_type": "code",
   "execution_count": 25,
   "id": "9c5933f7-2093-44b8-a02c-81eb55c9f72c",
   "metadata": {},
   "outputs": [],
   "source": [
    "output_info = {'field':'PL', \n",
    "               \"psm_models\": [\"s1\",\"d1\",\"a1\",\"f1\",\"c1\"],\n",
    "               \"frequency\":{\"min\":980,\"max\":1260,'nbands':30},\n",
    "               \"coverage\":'full',\n",
    "               'beam': {'model':None, 'fwhm':10}, \n",
    "               'stokes':\"QU\",\n",
    "               \"freq_unit\":\"MHz\", \"stokes_unit\":\"mk\", \"fwhm_unit\":\"arcmin\",\n",
    "               'NSIDE':256,\n",
    "               \"realization\":0,\n",
    "               \"output_dir\":'/media/BINGODATA1/ComponentSeparation/building_dataset/dataset/PL256',\n",
    "               \"clear_output_dir\":False,\n",
    "               \"eQ\": 0.01,\n",
    "               \"eU\": 0.001,\n",
    "               \"eV\": 0.00,\n",
    "               \"add_info\": \"1eQ_01eU\",\n",
    "               \"pathFG_Q\":'/media/BINGODATA1/ComponentSeparation/building_dataset/dataset/FG256',\n",
    "               \"pathFG_U\":'/media/BINGODATA1/ComponentSeparation/building_dataset/dataset/FG256',\n",
    "               \"pathFG_V\":'/media/BINGODATA1/ComponentSeparation/building_dataset/dataset/FG256',\n",
    "               \"nameFG_Q\":\"FG_Q_256_980mhz1260mhz_30bins_full_L0.fits\" ,\n",
    "               \"nameFG_U\":\"FG_U_256_980mhz1260mhz_30bins_full_L0.fits\",\n",
    "               \"nameFG_V\":None}"
   ]
  },
  {
   "cell_type": "code",
   "execution_count": 26,
   "id": "6765498e-0a1a-4650-af6b-d790b1699ef8",
   "metadata": {},
   "outputs": [
    {
     "name": "stdout",
     "output_type": "stream",
     "text": [
      "Checking output directory...\n",
      "Output directory ready.\n",
      "Building HDU data and headers...\n",
      "HDUs ready.\n",
      "Saving FITS file...\n",
      "FITS file saved.\n",
      "Completed.\n"
     ]
    }
   ],
   "source": [
    "hdata.save_FITS_newformat(output_info=output_info)"
   ]
  },
  {
   "cell_type": "code",
   "execution_count": null,
   "id": "0658aaa3-7f97-4475-9dc8-d233f6a50b96",
   "metadata": {},
   "outputs": [],
   "source": []
  }
 ],
 "metadata": {
  "kernelspec": {
   "display_name": "Python 3 (ipykernel)",
   "language": "python",
   "name": "python3"
  },
  "language_info": {
   "codemirror_mode": {
    "name": "ipython",
    "version": 3
   },
   "file_extension": ".py",
   "mimetype": "text/x-python",
   "name": "python",
   "nbconvert_exporter": "python",
   "pygments_lexer": "ipython3",
   "version": "3.8.16"
  }
 },
 "nbformat": 4,
 "nbformat_minor": 5
}
