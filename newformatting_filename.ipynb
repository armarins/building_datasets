{
 "cells": [
  {
   "cell_type": "code",
   "execution_count": 1,
   "id": "edd2dff0-04aa-460e-9bf6-821265269130",
   "metadata": {},
   "outputs": [],
   "source": [
    "from copy import deepcopy as dcopy\n",
    "import matplotlib \n",
    "import matplotlib as mpl\n",
    "import matplotlib.pyplot as plt\n",
    "from matplotlib import cm\n",
    "from matplotlib import rc\n",
    "%matplotlib inline\n",
    "rc('text', usetex=True)\n",
    "font = {'weight' : 'bold','size'   : 22}\n",
    "matplotlib.rc('font', **font)\n",
    "#############################################\n",
    "import warnings\n",
    "warnings.filterwarnings(\"ignore\")\n",
    "#############################################\n",
    "import os,sys\n",
    "import numpy as np\n",
    "import healpy as hp\n",
    "import healpy.newvisufunc as hpn\n",
    "import astropy.io.fits as fits\n",
    "#import pandas as pd\n",
    "import pymaster as nmt\n",
    "#############################################\n",
    "sys.path.insert(1, '/media/BINGODATA1/ComponentSeparation/beam_analyzes/scripts')\n",
    "import handling_data          as hdata\n",
    "#############################################"
   ]
  },
  {
   "cell_type": "code",
   "execution_count": 4,
   "id": "4a512c8f-7c78-414a-8823-75a18b930277",
   "metadata": {},
   "outputs": [],
   "source": [
    "path        = \"/media/BINGODATA1/ComponentSeparation/MAPS/HI\"\n",
    "idir        = \"flask_maps_512\"\n",
    "output_info = {\"field\":\"HI\", \n",
    "               \"frequency\":{\"min\":980,\"max\":1260,'nbands':30},\n",
    "               \"coverage\":'full',\n",
    "               'beam': {'model':None, 'fwhm':10}, \n",
    "               'stokes':'I',\n",
    "               \"freq_unit\":\"MHz\", \"stokes_unit\":\"mk\", \"fwhm_unit\":\"arcmin\",\n",
    "               \"realization\":['0100','0010'],\n",
    "               \"output_dir\":'/media/BINGODATA1/ComponentSeparation/building_dataset/dataset/HI512',\n",
    "               \"clear_output_dir\":True}"
   ]
  },
  {
   "cell_type": "markdown",
   "id": "aaeee2e7-7405-4479-a43e-916d295947ba",
   "metadata": {},
   "source": [
    "# Detailed Description - How to use"
   ]
  },
  {
   "cell_type": "markdown",
   "id": "5437e33d-5694-4ebd-92dd-69373c640dd9",
   "metadata": {},
   "source": [
    "### Variables used\n",
    "\n",
    "- path: path to directory where the one containing all realizations is\n",
    "- idir: the name os the directory with all realization FITS files\n",
    "\n",
    "- field: type of field. For instance: HI, FG, N, WN, ...\n",
    "    - FG: each kind of astrophysical component should have the short name composing as follow:\n",
    "        - [AME]: Anomalous Microwave Background\n",
    "        - [CIB]: Cosmic Infrared Background\n",
    "        - [CMB]: Cosmic Microwave Background\n",
    "        - [SYN] : Synchrotron\n",
    "        - [FRP]: Faint Radio Point sources\n",
    "        - [FF] :  Free-Free emission\n",
    "        - [SZ]: Sunyaev-Zeldovich emission\n",
    "    \n",
    "    - HI:  neutral hydrogen\n",
    "    \n",
    "    - N: Noise could be\n",
    "        - [uWN]: uncorrelated White Noise\n",
    "        - [cWN]: correlated White Noise\n",
    "        - [1F]:  pink Noise or 1/f-noise\n",
    "        - [PLK]: Polarization LeaKage\n",
    "        - others\n",
    "        PS.: if the component is a composition of many FG is necessary use onlu FG and specify on the FITS head each component\n",
    "    \n",
    "    - PRIOR: We will keep the same nomeclature come from the previous works and assume PRIOR as a composition of HI + N, where N could be uWN, cWN or other kind of \n",
    "        - PS.: it should be specified on the FITS head each component\n",
    "    \n",
    "    - INPUT or SKY: It'll be assumed as a composition of sky emissions + instrumental noises.\n",
    "    \n",
    "- S: Stokes parameters: It should be speficied which type of Stokes parameter the file represent \n",
    "    - I: intensity\n",
    "    - Q: Q-pol parameter\n",
    "    - U: U-pol parameter\n",
    "    - W: W-pol parameter\n",
    "    - P: P-pol parameter\n",
    "    - p: p-pol parameter\n",
    "    \n",
    "\n",
    "- frequency: Informations related to frequancy properties, as minimum and maximum,as well as number of bands used    \n",
    "\n",
    "- coverage: Type of covering: full or partial. If the map(s) is(are) masked then it's necessary to use \"partial\". Otherwise, if all sky, \"full\".\n",
    "\n",
    "- beam: Specification of the beam. If there is no beam convolution, it should be assumed the type NONE. If there is a convolution, first you need to include the full-width-at-half-maximum resolution in arcmin. Then, the type of beam model. Acronynms of the beam model are as follow:\n",
    "    - [ZN] : Zernike Polynomial\n",
    "    - [G] : Gaussian\n",
    "    - [JC] : Spherical Bessel\n",
    "    - [CO] : Cosine Polynomial\n",
    "    - [LA] : Laguerre\n",
    "    - [HM] : Hermite\n",
    "    - [AI] : Airy \n",
    "\n",
    "- realization: the ID identification of the realization (for instance, '0001', '0210', ...). it could be put in a array (or list) or alone way. If you want to use more than one, you will need to use as a array (or list). If you want to use all realizations on the 'pathdir' directory, please, wheather use None or the string \"all\".\n",
    "\n",
    "- output_dir: the complete path where will be saved all multimaps. If type None, it'll be saved in a standard directory (to be created or not)\n",
    "\n",
    "- clear_output_dir: True: If the directory already exists, it'll be cleaned"
   ]
  },
  {
   "cell_type": "code",
   "execution_count": 5,
   "id": "9791ef15-9eec-47c8-b8b8-52213ad44883",
   "metadata": {},
   "outputs": [],
   "source": [
    "pathdir   = hdata.os.path.join(path,idir) #<-- path to diretories with all maps\n",
    "filenames = hdata.get_allfilenames(dirpath_=pathdir) #all filenames in the directory\n",
    "_ids_     = hdata.get_all_realizations_id(filenames) #all realization names\n",
    "idic      = hdata.get_filenames4realizations(filenames_=filenames, ids_=_ids_) #all filenames for a specific realization\n",
    "###########\n",
    "ifile     = np.random.choice(idic[output_info['realization'][0]]) #Choice a specific realization name just to test\n",
    "ginfo     = hdata.get_info_from_filename(dirname_= idir, filename_=ifile, \n",
    "                                         numin_ =output_info['frequency']['min'], \n",
    "                                         numax_ =output_info['frequency']['max'], \n",
    "                                         nbands_=output_info['frequency']['nbands']) #info from filenames\n",
    "new_name  = hdata.return_new_FITSfilename(ginfo, output_info, add_info=None) #new FITS name for that map cube\n",
    "###########\n",
    "vec_hdu0  = ginfo['frequency']['nu']\n",
    "hdr_hdu0  = hdata.creating_primary_FITSheader(output_info)\n",
    "vec_hdu1  = hdata.building_cubemaps_from_realization(pathdir_=pathdir, filenames_=idic[output_info['realization'][0]]) #extracting all maps for a specific realization and building a cube\n",
    "hdr_hdu1  = hdata.creating_multimap_FITSheader(new_name, \n",
    "                                               freq_unit  =output_info[\"freq_unit\"], \n",
    "                                               stokes_unit=output_info[\"stokes_unit\"], \n",
    "                                               fwhm_unit  =output_info[\"fwhm_unit\"]) #Header to be used "
   ]
  },
  {
   "cell_type": "code",
   "execution_count": 6,
   "id": "5af49a08-20cf-43c2-8110-23e36ca59380",
   "metadata": {},
   "outputs": [
    {
     "name": "stdout",
     "output_type": "stream",
     "text": [
      "Each name of INPUT map looks like: HImap-r0100-f1z26.fits\n",
      "Multimaps new name: HI_I_512_980mhz1260mhz_30bins_full_L0100.fits\n"
     ]
    }
   ],
   "source": [
    "print(\"Each name of INPUT map looks like: {}\".format(ifile) )\n",
    "print(\"Multimaps new name: {}\".format(new_name) )"
   ]
  },
  {
   "cell_type": "code",
   "execution_count": 7,
   "id": "cb1d006f-0091-4ed0-9f23-e7807ed33dba",
   "metadata": {},
   "outputs": [],
   "source": [
    "try:\n",
    "    os.remove(new_name)\n",
    "except: \n",
    "    pass\n",
    "new_name = \"\".join((\"test_\",new_name)) #I'll change the 'new_name' just to show how this work. In another case, keep the same new_name, that's, doesn't change it\n",
    "hdu0 = fits.PrimaryHDU(header=hdr_hdu0,data=vec_hdu0)\n",
    "hdu1 = fits.ImageHDU(  header=hdr_hdu1,data=vec_hdu1, name=\"MULTIMAPS\")\n",
    "hdul = fits.HDUList([hdu0,hdu1])\n",
    "hdul.writeto(new_name,overwrite=True)\n",
    "hdul.close()"
   ]
  },
  {
   "cell_type": "code",
   "execution_count": 8,
   "id": "aa8e8e14-5fd0-4fe6-b2b7-30f23e11d219",
   "metadata": {},
   "outputs": [
    {
     "name": "stdout",
     "output_type": "stream",
     "text": [
      "Filename: (No file associated with this HDUList)\n",
      "No.    Name      Ver    Type      Cards   Dimensions   Format\n",
      "  0  PRIMARY       1 PrimaryHDU       9   (31,)   float64   \n",
      "  1  MULTIMAPS     1 ImageHDU        22   (3145728, 30)   float64   \n"
     ]
    }
   ],
   "source": [
    "#General info\n",
    "hdul.info()"
   ]
  },
  {
   "cell_type": "code",
   "execution_count": 9,
   "id": "92377dc1-a59e-440e-9fc8-0ebc4b26889c",
   "metadata": {},
   "outputs": [
    {
     "name": "stdout",
     "output_type": "stream",
     "text": [
      "HEADER:\n",
      "\n",
      "SIMPLE  =                    T / conforms to FITS standard                      \n",
      "BITPIX  =                  -64 / array data type                                \n",
      "NAXIS   =                    1 / number of array dimensions                     \n",
      "NAXIS1  =                   31                                                  \n",
      "EXTEND  =                    T                                                  \n",
      "FREQ_MIN=                  980                                                  \n",
      "FREQ_MAX=                 1260                                                  \n",
      "NBANDS  =                   30                                                  \n",
      "COMMENT PRIMARY HDU CONTAIN THE REDSHIFT VECTOR                                 \n"
     ]
    }
   ],
   "source": [
    "#PRIMARY HDU -- HDU 0\n",
    "#\n",
    "# Here you'll see informations about redshift vector containing all intervals of redshifts\n",
    "# Minimal and maximal frequencies used for and number of bands (or bins, which is the same here)\n",
    "print('HEADER:\\n')\n",
    "print(repr(hdul[0].header))"
   ]
  },
  {
   "cell_type": "code",
   "execution_count": 13,
   "id": "68ff7313-3331-473d-bc34-1826cfe9f85e",
   "metadata": {},
   "outputs": [
    {
     "data": {
      "text/plain": [
       "31"
      ]
     },
     "execution_count": 13,
     "metadata": {},
     "output_type": "execute_result"
    }
   ],
   "source": [
    "hdul[0].data.size"
   ]
  },
  {
   "cell_type": "code",
   "execution_count": 10,
   "id": "185b3a76-14ef-4b90-8963-cc1cfe4fb9f5",
   "metadata": {},
   "outputs": [
    {
     "name": "stdout",
     "output_type": "stream",
     "text": [
      "DATA:\n",
      "\n",
      "array([ 980.  ,  989.33,  998.67, 1008.  , 1017.33, 1026.67, 1036.  ,\n",
      "       1045.33, 1054.67, 1064.  , 1073.33, 1082.67, 1092.  , 1101.33,\n",
      "       1110.67, 1120.  , 1129.33, 1138.67, 1148.  , 1157.33, 1166.67,\n",
      "       1176.  , 1185.33, 1194.67, 1204.  , 1213.33, 1222.67, 1232.  ,\n",
      "       1241.33, 1250.67, 1260.  ])\n"
     ]
    }
   ],
   "source": [
    "print('DATA:\\n')\n",
    "print(repr(hdul[0].data))"
   ]
  },
  {
   "cell_type": "code",
   "execution_count": 27,
   "id": "dc2ff9f3-49c6-4f74-8ae6-a8a1ca6626f0",
   "metadata": {},
   "outputs": [
    {
     "name": "stdout",
     "output_type": "stream",
     "text": [
      "HEADER:\n",
      "\n",
      "XTENSION= 'IMAGE   '           / Image extension                                \n",
      "BITPIX  =                  -64 / array data type                                \n",
      "NAXIS   =                    2 / number of array dimensions                     \n",
      "NAXIS1  =              3145728                                                  \n",
      "NAXIS2  =                   30                                                  \n",
      "PCOUNT  =                    0 / number of parameters                           \n",
      "GCOUNT  =                    1 / number of groups                               \n",
      "FIELD   = 'HI      '                                                            \n",
      "STOKES  = 'I       '           / mk                                             \n",
      "NSIDE   =                  512                                                  \n",
      "FREQ_MIN=                980.0 / in MHz                                         \n",
      "FREQ_MAX=               1260.0 / in MHz                                         \n",
      "NBINS   =                   30                                                  \n",
      "COVERAGE= 'full    '           / {full- or partial-sky}                         \n",
      "BEAM    = 'NONE    '                                                            \n",
      "HIERARCH REALIZATION =                                                          \n",
      "EXTNAME = 'MULTIMAPS'          / extension name                                 \n",
      "COMMENT THIS IS A NEW NAME FORMAT FOR THE BINGO PROJECT FITS FILES.             \n",
      "COMMENT THESE FILES ARE USED FOR COMPONENT SEPARATION CODE CALLED --CHISEL--    \n",
      "COMMENT https://github.com/multinverse/CHISEL---signals-from-LIM                \n",
      "COMMENT ITS FORMAT ASSUME FLASK MAPS AS INPUT                                   \n",
      "COMMENT CREATED IN: 2023-09-04 00:31:01                                         \n"
     ]
    }
   ],
   "source": [
    "#IMAGE HDU -- HDU 1 -- ALL MAPS IN A MATRIX REPRESENTATION\n",
    "#\n",
    "# HERE you can look at all information describing the multimaps (all maps in matrix representation)\n",
    "# You can see which is the field, Stokes parameter, NSIDE HealPIX resolution, Project covering,\n",
    "# If it's assumed a beam convolution or not, and if so which are FHWM and the Beam model assumed\n",
    "print('HEADER:\\n')\n",
    "print(repr(hdul[1].header))"
   ]
  },
  {
   "cell_type": "code",
   "execution_count": 28,
   "id": "a7cc60c6-588e-4ab7-8fb4-05578f7b1db2",
   "metadata": {},
   "outputs": [
    {
     "name": "stdout",
     "output_type": "stream",
     "text": [
      "DATA:\n",
      "\n",
      "array([[ 5.47993556e-02,  5.26039779e-01,  7.92899355e-02, ...,\n",
      "         2.64430624e-02,  5.89685934e-03,  1.58316139e-02],\n",
      "       [ 4.22787368e-02,  3.91779318e-02,  1.26857944e-02, ...,\n",
      "        -2.82995519e-03,  2.04597483e-04,  2.65518706e-02],\n",
      "       [-8.49895645e-03, -8.58006906e-03, -8.79507512e-03, ...,\n",
      "         9.74427350e-03,  6.45814696e-03,  4.93700840e-02],\n",
      "       ...,\n",
      "       [ 6.39779419e-02,  2.39880243e-03,  4.90189530e-02, ...,\n",
      "         2.07588315e-01,  9.86814350e-02,  1.12318106e-01],\n",
      "       [ 2.07764413e-02,  1.73066240e-02,  3.31539735e-02, ...,\n",
      "         4.55153510e-02,  7.51858950e-02, -9.54377232e-04],\n",
      "       [-3.27165029e-03,  5.37990639e-03,  1.05088554e-01, ...,\n",
      "         4.75355983e-03,  5.73629960e-02,  2.23025028e-02]])\n"
     ]
    }
   ],
   "source": [
    "print('DATA:\\n')\n",
    "print(repr(hdul[1].data))"
   ]
  },
  {
   "cell_type": "code",
   "execution_count": 29,
   "id": "5a7aa5bc-b223-47c5-84d1-bf615d78cf23",
   "metadata": {},
   "outputs": [
    {
     "name": "stdout",
     "output_type": "stream",
     "text": [
      "Size of the FITS file: 721M\n"
     ]
    }
   ],
   "source": [
    "print(\"Size of the FITS file: {}\".format(os.popen(\"du -sh {}\".format(new_name)).readlines()[0].split()[0]))"
   ]
  },
  {
   "cell_type": "code",
   "execution_count": 30,
   "id": "539b45c5-3cf1-420e-913c-3264bb261f5b",
   "metadata": {},
   "outputs": [
    {
     "name": "stdout",
     "output_type": "stream",
     "text": [
      "Filename: (No file associated with this HDUList)\n",
      "No.    Name      Ver    Type      Cards   Dimensions   Format\n",
      "  0  PRIMARY       1 PrimaryHDU       9   (31,)   float64   \n",
      "  1  MULTIMAPS     1 ImageHDU        22   (3145728, 30)   float64   \n"
     ]
    }
   ],
   "source": [
    "iname = new_name\n",
    "with fits.open(os.path.join(os.getcwd(),\"\",iname)) as h:\n",
    "    hdul = dcopy(h)\n",
    "hdul.info()"
   ]
  },
  {
   "cell_type": "markdown",
   "id": "1c081582-1f0e-4f06-af39-0eae91928aee",
   "metadata": {},
   "source": [
    "### MASK"
   ]
  },
  {
   "cell_type": "code",
   "execution_count": null,
   "id": "dab4913f-67db-428c-be18-ba114774ff11",
   "metadata": {},
   "outputs": [],
   "source": []
  }
 ],
 "metadata": {
  "kernelspec": {
   "display_name": "Python 3 (ipykernel)",
   "language": "python",
   "name": "python3"
  },
  "language_info": {
   "codemirror_mode": {
    "name": "ipython",
    "version": 3
   },
   "file_extension": ".py",
   "mimetype": "text/x-python",
   "name": "python",
   "nbconvert_exporter": "python",
   "pygments_lexer": "ipython3",
   "version": "3.8.16"
  }
 },
 "nbformat": 4,
 "nbformat_minor": 5
}
